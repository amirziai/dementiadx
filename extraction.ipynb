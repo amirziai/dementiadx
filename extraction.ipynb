{
 "cells": [
  {
   "cell_type": "markdown",
   "metadata": {},
   "source": [
    "# Data Extraction  \n",
    "This script is intended to pull relevant variables from the raw data set.\n",
    "\n",
    "The final useable data-split into train/test/validate sets- appears in the \"result\" folder.\n",
    "\n",
    "This code can also be used to ingest NEW data in the NACC format and convert it into data readable by our model.\n",
    "\n",
    "## Import Data\n",
    "To start, place the raw data in the raw data folder. The git ignore file should keep it from being added to the repository."
   ]
  },
  {
   "cell_type": "code",
   "execution_count": null,
   "metadata": {
    "collapsed": false
   },
   "outputs": [],
   "source": [
    "import pandas as pd\n",
    "import os\n",
    "import numpy as np\n",
    "from sklearn.preprocessing import Imputer\n",
    "from __future__ import print_function\n",
    "\n",
    "print(os.getcwd())\n",
    "\n",
    "variables = []\n",
    "var_dict = {}"
   ]
  },
  {
   "cell_type": "code",
   "execution_count": null,
   "metadata": {
    "collapsed": false,
    "scrolled": true
   },
   "outputs": [],
   "source": [
    "rawdata = pd.read_csv(\"raw/patel01222016.csv\", low_memory=False)"
   ]
  },
  {
   "cell_type": "markdown",
   "metadata": {},
   "source": [
    "*NACCID*"
   ]
  },
  {
   "cell_type": "code",
   "execution_count": null,
   "metadata": {
    "collapsed": true
   },
   "outputs": [],
   "source": [
    "variables.append(\"NACCID\")"
   ]
  },
  {
   "cell_type": "markdown",
   "metadata": {},
   "source": [
    "### Informant Interview Scores\n",
    "\n",
    "*MEMORY, ORIENT, JUDGMENT, COMMUN, HOMEHOBB, PERSCARE, COMPORT, CDRLANG, CDRGLOB*  \n",
    "0.0 = No impairement  \n",
    "0.5 = Questionable impairement  \n",
    "1.0 = Mild impairment  \n",
    "2.0 = Moderate impairment  \n",
    "3.0 = Severe impairment  \n",
    "\n",
    "*CDRSUM* is 0 to 18\n",
    "\n",
    "These variables are scored based on structured interviews with caretakers. They describe memory, orientation, judgement, community involvement, home and hobbies, and personal care. *CDRGLOB* is a total impairment score computed from the previous values. CDRSUM is the simple total of the previous values."
   ]
  },
  {
   "cell_type": "code",
   "execution_count": null,
   "metadata": {
    "collapsed": true
   },
   "outputs": [],
   "source": [
    "variables.append(\"MEMORY\")\n",
    "variables.append(\"ORIENT\")\n",
    "variables.append(\"JUDGMENT\")\n",
    "variables.append(\"COMMUN\")\n",
    "variables.append(\"HOMEHOBB\")\n",
    "variables.append(\"PERSCARE\")\n",
    "variables.append(\"CDRSUM\")\n",
    "variables.append(\"CDRGLOB\")"
   ]
  },
  {
   "cell_type": "markdown",
   "metadata": {},
   "source": [
    "*NACCGDS*  \n",
    "Geriatric Depression Scale (higher is more depression)\n",
    "Score 0-15  \n",
    "88 = couldn't be calculated  \n",
    "-4 = not available  \n",
    "Recoding this variable to fill in error codes with NaN  \n",
    "**NOT CURRENTLY AVAILABLE**"
   ]
  },
  {
   "cell_type": "markdown",
   "metadata": {
    "collapsed": false
   },
   "source": [
    "gds = []\n",
    "for i in range(len(rawdata)):\n",
    "    if rawdata['NACCGDS'][i] > 15:\n",
    "        gds.append(np.nan)\n",
    "    elif rawdata['NACCGDS'][i] < 0:\n",
    "        gds.append(np.nan)\n",
    "    else:\n",
    "        gds.append(rawdata['NACCGDS'][i])\n",
    "    print(str(len(gds)) + '/' + str(len(rawdata)), end='\\r')\n",
    "print(str(len(gds)) + '/' + str(len(rawdata)))\n",
    "var_dict['gds'] = gds"
   ]
  },
  {
   "cell_type": "markdown",
   "metadata": {},
   "source": [
    "### Demographics  \n",
    "\n",
    "*NACCAGE*\n",
    "\n",
    "Age at time of visit from 18 to 120. Birth year and month are collected, but not day. Therefore, age is estimated using birth day set to 1."
   ]
  },
  {
   "cell_type": "code",
   "execution_count": null,
   "metadata": {
    "collapsed": false
   },
   "outputs": [],
   "source": [
    "variables.append('NACCAGE')"
   ]
  },
  {
   "cell_type": "markdown",
   "metadata": {},
   "source": [
    "*RACE*  \n",
    "Race  \n",
    "1 = White  \n",
    "2 = Black or African American  \n",
    "3 = American Indian or Alaska Native  \n",
    "4 = Native Hawaiian or Pacific Islander  \n",
    "5 = Asian  \n",
    "50 = Other (specify)  \n",
    "99 = Unknown  \n",
    "\n",
    "*RACEX*  \n",
    "If Race = 50, the specify text is listed here.\n",
    "\n",
    "Recode into *race*  \n",
    "Same codes as above, except 50 and 99 are now NaN."
   ]
  },
  {
   "cell_type": "code",
   "execution_count": null,
   "metadata": {
    "collapsed": false
   },
   "outputs": [],
   "source": [
    "races = []\n",
    "for race in rawdata['RACE']:\n",
    "    if race > 5:\n",
    "        races.append(np.nan)\n",
    "    else:\n",
    "        races.append(race)\n",
    "var_dict['race'] = races\n",
    "del races"
   ]
  },
  {
   "cell_type": "markdown",
   "metadata": {},
   "source": [
    "*SEX*  \n",
    "1=Male  \n",
    "2=Female  \n",
    "\n",
    "Recode into *female*  \n",
    "0 = male  \n",
    "1 = female"
   ]
  },
  {
   "cell_type": "code",
   "execution_count": null,
   "metadata": {
    "collapsed": false
   },
   "outputs": [],
   "source": [
    "sex = []\n",
    "for sx in rawdata['SEX']:\n",
    "    if sx == 1:\n",
    "        sex.append('Male')\n",
    "    elif sx == 2:\n",
    "        sex.append('Female')\n",
    "    else:\n",
    "        sex.append(np.nan)\n",
    "var_dict['sex'] = sex\n",
    "del sex"
   ]
  },
  {
   "cell_type": "markdown",
   "metadata": {},
   "source": [
    "*HANDED*  \n",
    "1=left  \n",
    "2=right  \n",
    "3=ambidextrous  \n",
    "9=uknown  \n",
    "\n",
    "Recode into *handed*  \n",
    "left  \n",
    "right  \n",
    "ambidextrous  \n",
    "NaN  "
   ]
  },
  {
   "cell_type": "code",
   "execution_count": null,
   "metadata": {
    "collapsed": false
   },
   "outputs": [],
   "source": [
    "handed = []\n",
    "for hnd in rawdata['HANDED']:\n",
    "    if hnd == 1:\n",
    "        handed.append('left')\n",
    "    if hnd == 2:\n",
    "        handed.append('right')\n",
    "    if hnd == 3:\n",
    "        handed.append('ambidextrous')\n",
    "    if hnd == 9:\n",
    "        handed.append(np.nan)\n",
    "var_dict['handed'] = handed\n",
    "del handed"
   ]
  },
  {
   "cell_type": "markdown",
   "metadata": {},
   "source": [
    "*EDUC*  \n",
    "0 to 36  \n",
    "99 = Unknown  \n",
    "\n",
    "Recode to *educ*  \n",
    "[0 - 12) = elementary  \n",
    "[12 - 16) = high school  \n",
    "[16 - 18) = college  \n",
    "[18 - 20) = masters  \n",
    "[20 - 37) = doctorate  \n",
    "[37 - $\\infty$ ) = NaN"
   ]
  },
  {
   "cell_type": "code",
   "execution_count": null,
   "metadata": {
    "collapsed": false
   },
   "outputs": [],
   "source": [
    "educ = []\n",
    "for edu in rawdata['EDUC']:\n",
    "    if edu <12:\n",
    "        educ.append('elementary')\n",
    "    elif edu < 16:\n",
    "        educ.append('high school')\n",
    "    elif edu < 18:\n",
    "        educ.append('college')\n",
    "    elif edu < 20:\n",
    "        educ.append('masters')\n",
    "    elif edu < 37:\n",
    "        educ.append('doctorate')\n",
    "    else:\n",
    "        educ.append(np.nan)\n",
    "var_dict['educ'] = educ\n",
    "del educ"
   ]
  },
  {
   "cell_type": "markdown",
   "metadata": {},
   "source": [
    "*NACCLIVS*  \n",
    "1 = Lives alone  \n",
    "2 = Lives with spouse or partner  \n",
    "3 = Lives with relative or friend  \n",
    "4 = Lives with group  \n",
    "5 = Other  \n",
    "6 = Unknown\n",
    "\n",
    "Recode into *living_sit*  \n",
    "alone  \n",
    "partner  \n",
    "friend  \n",
    "group  \n",
    "other  \n",
    "NaN"
   ]
  },
  {
   "cell_type": "code",
   "execution_count": null,
   "metadata": {
    "collapsed": false
   },
   "outputs": [],
   "source": [
    "living_sit = []\n",
    "for lv in rawdata['NACCLIVS']:\n",
    "    if lv == 1:\n",
    "        living_sit.append('alone')\n",
    "    elif lv == 2:\n",
    "        living_sit.append('partner')\n",
    "    elif lv == 3:\n",
    "        living_sit.append('friend')\n",
    "    elif lv == 4:\n",
    "        living_sit.append('group')\n",
    "    elif lv == 5:\n",
    "        living_sit.append('other')\n",
    "    else:\n",
    "        living_sit.append(np.nan)\n",
    "var_dict['living_sit'] = living_sit\n",
    "del living_sit"
   ]
  },
  {
   "cell_type": "markdown",
   "metadata": {},
   "source": [
    "*INDEPEND*  \n",
    "\n",
    "1=Living independently  \n",
    "2=Requires some assistance with complex activities  \n",
    "3=Requires some assistance with basic activities  \n",
    "4=Completely dependent  \n",
    "9=Unknown  \n",
    "\n",
    "Recode to *independ*  \n",
    "independent  \n",
    "some assistance  \n",
    "significant assistance  \n",
    "fully assissted"
   ]
  },
  {
   "cell_type": "code",
   "execution_count": null,
   "metadata": {
    "collapsed": false
   },
   "outputs": [],
   "source": [
    "independ = []\n",
    "for ind in rawdata['INDEPEND']:\n",
    "    if ind == 1:\n",
    "        independ.append('independent')\n",
    "    elif ind == 2:\n",
    "        independ.append('some assistance')\n",
    "    elif ind == 3:\n",
    "        independ.append('significant assistance')\n",
    "    elif ind == 4:\n",
    "        independ.append('fully assisted')\n",
    "    else:\n",
    "        independ.append(np.nan)\n",
    "var_dict['independ'] = independ\n",
    "del independ"
   ]
  },
  {
   "cell_type": "markdown",
   "metadata": {},
   "source": [
    "### Diagnosis Labels\n",
    "\n",
    "*NACCALZD*  \n",
    "0 = No (assumed assessed and found not present)  \n",
    "1 = Yes, subject with any cognitive impairment and AD indicated as the etiologic diagnosis.  \n",
    "8 = No cognitive impairment  \n",
    "\n",
    "*NACCBVFT*  \n",
    "0 = No, Subjects with dementia syndrom or etiologic diagnosis other than bvFTD.  \n",
    "1 = Yes, subject with bvFTD dementia syndrome.  \n",
    "8 = No cognitive impairment\n",
    "\n",
    "Recode into *labels*.  \n",
    "AD  \n",
    "bvFTD  \n",
    "NaN"
   ]
  },
  {
   "cell_type": "code",
   "execution_count": null,
   "metadata": {
    "collapsed": false
   },
   "outputs": [],
   "source": [
    "labels = []\n",
    "for i in range (len(rawdata)):\n",
    "    if rawdata[\"NACCALZD\"][i] == 1:\n",
    "        if rawdata[\"NACCBVFT\"][i] == 1:\n",
    "            labels.append(np.nan) # error code -8\n",
    "        else:\n",
    "            labels.append('AD') # AD = 0\n",
    "    elif rawdata[\"NACCBVFT\"][i] == 1:\n",
    "        labels.append('bvFTD') # bvFTD = 1\n",
    "    else:\n",
    "        labels.append(np.nan)\n",
    "var_dict['labels'] = labels\n",
    "del labels"
   ]
  },
  {
   "cell_type": "markdown",
   "metadata": {},
   "source": [
    "### Physical/Neurological Exam Findings\n",
    "\n",
    "*FOCLDEF*, *GAITDIS*, *EYEMOVE*, *PARKSIGN*, *RESTTRL*, *RESTTRR*, *SLOWINGL*, *SLOWINGR*, *RIGIDL*, *RIGIDR*, *BRADY*, *PARKGAIT*, *POSTINST*, *CVDSIGNS*, *CORTDEF*, *SIVDFIND*, *CVDMOTL*, *CVDMOTR*, *CORTVISL*, *CORTVISR*, *SOMATL*, *SOMATR*, *POSTCORT*\n",
    "\n",
    "0 = No, symptom not present  \n",
    "1 = Yes, symptom present  \n",
    "9/-4/8 = Unknown/Not available/skipped  \n",
    "Recode to Yes/No/NaN  "
   ]
  },
  {
   "cell_type": "code",
   "execution_count": null,
   "metadata": {
    "collapsed": false,
    "scrolled": true
   },
   "outputs": [],
   "source": [
    "tests = [\"FOCLDEF\", \"GAITDIS\", \"EYEMOVE\", \"PARKSIGN\", \"RESTTRL\", \"RESTTRR\",\n",
    "         \"SLOWINGL\", \"SLOWINGR\", \"RIGIDL\", \"RIGIDR\", \"BRADY\", \"PARKGAIT\",\n",
    "         \"POSTINST\", \"CVDSIGNS\", \"CORTDEF\", \"SIVDFIND\", \"CVDMOTL\", \"CVDMOTR\",\n",
    "         \"CORTVISL\", \"CORTVISR\", \"SOMATL\", \"SOMATR\", \"POSTCORT\"]\n",
    "\n",
    "for test in tests:\n",
    "    findings = []\n",
    "    for finding in rawdata[test]:\n",
    "        if finding == 0:\n",
    "            findings.append('No')\n",
    "        elif finding == 1:\n",
    "            findings.append('Yes')\n",
    "        else:\n",
    "            findings.append(np.nan)\n",
    "    var_dict[test] = findings"
   ]
  },
  {
   "cell_type": "markdown",
   "metadata": {},
   "source": [
    "*HEIGHT*  \n",
    "36 to 87.9, all others are recoded to error.  \n",
    "\n",
    "*WEIGHT*  \n",
    "50-400, all others are recoded to error.  \n",
    "\n",
    "*BMI* = WEIGHT * 703 / HEIGHT^2  "
   ]
  },
  {
   "cell_type": "code",
   "execution_count": null,
   "metadata": {
    "collapsed": false
   },
   "outputs": [],
   "source": [
    "height = []\n",
    "for h in rawdata['HEIGHT']:\n",
    "    if (h < 36.0 or h > 87.9):\n",
    "        height.append(np.nan)\n",
    "    else:\n",
    "        height.append(h)\n",
    "\n",
    "weight= []\n",
    "for w in rawdata['WEIGHT']:\n",
    "    if (w < 50 or w > 400):\n",
    "        weight.append(np.nan)\n",
    "    else:\n",
    "        weight.append(w)     \n",
    "\n",
    "bmi = []\n",
    "for h,w in zip(height, weight):\n",
    "    if not np.isnan(h) and not np.isnan(w):\n",
    "        bmi.append(w * 703 / h^2)\n",
    "    else:\n",
    "        bmi.append(np.nan)\n",
    "\n",
    "var_dict['bmi'] = bmi\n",
    "del height\n",
    "del weight\n",
    "del bmi"
   ]
  },
  {
   "cell_type": "markdown",
   "metadata": {},
   "source": [
    "*COGMODE*  \n",
    "0=No impairment in cognition  \n",
    "1=gradual  \n",
    "2=subacute  \n",
    "3=abrupt  \n",
    "4=other  \n",
    "99=unknown"
   ]
  },
  {
   "cell_type": "code",
   "execution_count": null,
   "metadata": {
    "collapsed": false
   },
   "outputs": [],
   "source": [
    "decline = []\n",
    "for cm in rawdata['COGMODE']:\n",
    "    if cm==0:\n",
    "        decline.append('No Impairment')\n",
    "    elif cm==1:\n",
    "        decline.append('Gradual')\n",
    "    elif cm==2:\n",
    "        decline.append('Subacute')\n",
    "    elif cm==3:\n",
    "        decline.append('Abrupt')\n",
    "    else:\n",
    "        decline.append(np.nan)\n",
    "var_dict['decline'] = decline\n",
    "del decline"
   ]
  },
  {
   "cell_type": "markdown",
   "metadata": {},
   "source": [
    "*DECAGE*  \n",
    "Estimated age at which cog decline began.  \n",
    "15-110  \n",
    "All other values recode to NaN"
   ]
  },
  {
   "cell_type": "code",
   "execution_count": null,
   "metadata": {
    "collapsed": false
   },
   "outputs": [],
   "source": [
    "decage = []\n",
    "for da in rawdata['DECAGE']:\n",
    "    if da < 0 or da > 110:\n",
    "        decage.append(np.nan)\n",
    "    else:\n",
    "        decage.append(da)\n",
    "var_dict['decage'] = decage\n",
    "del decage"
   ]
  },
  {
   "cell_type": "markdown",
   "metadata": {},
   "source": [
    "*DECCLBE, BEAPATHY, BEDEP, BEVHALL, BEVWELL, BEAHALL, BEDEL, BEDISIN, BEIRRIT, BEAGIT, BEPERCH, BEREM, BEANX*  \n",
    "0 = No  \n",
    "1 = Yes  \n",
    "9/-4/8 = Unknown/Not available/skipped  \n",
    "Recode to Yes/No/NaN  "
   ]
  },
  {
   "cell_type": "code",
   "execution_count": null,
   "metadata": {
    "collapsed": true
   },
   "outputs": [],
   "source": [
    "tests = [\"DECCLBE\", \"BEAPATHY\", \"BEDEP\", \"BEVHALL\", \"BEVWELL\",\n",
    "         \"BEAHALL\", \"BEDEL\", \"BEDISIN\", \"BEIRRIT\", \"BEAGIT\", \"BEPERCH\",\n",
    "         \"BEREM\", \"BEANX\"]\n",
    "\n",
    "for test in tests:\n",
    "    findings = []\n",
    "    for finding in rawdata[test]:\n",
    "        if finding == 0:\n",
    "            findings.append('No')\n",
    "        elif finding == 1:\n",
    "            findings.append('Yes')\n",
    "        else:\n",
    "            findings.append(np.nan)\n",
    "    var_dict[test] = findings"
   ]
  },
  {
   "cell_type": "markdown",
   "metadata": {},
   "source": [
    "*NACCBEHF*  \n",
    "Predominant symptom that was first recognized as a decline in behavior.  \n",
    "0=No behavioral symptoms  \n",
    "1=Apathy/withdrawal  \n",
    "2=Depressed mood  \n",
    "3=Pyschosis  \n",
    "4=Disinhibition  \n",
    "5=Irritability  \n",
    "6=Agitation  \n",
    "7=Personality change  \n",
    "8=REM sleep behavior disorder  \n",
    "9=Anxiety  \n",
    "10=Other  "
   ]
  },
  {
   "cell_type": "code",
   "execution_count": null,
   "metadata": {
    "collapsed": false
   },
   "outputs": [],
   "source": [
    "naccbehf = []\n",
    "for hf in rawdata['NACCBEHF']:\n",
    "    if hf==0:\n",
    "        naccbehf.append('No behavioral symptoms')\n",
    "    elif hf==1:\n",
    "        naccbehf.append('Apathy/withdrawal')\n",
    "    elif hf==2:\n",
    "        naccbehf.append('ApathyDepressed mood')\n",
    "    elif hf==3:\n",
    "        naccbehf.append('Psychosis')\n",
    "    elif hf==4:\n",
    "        naccbehf.append('Disinhibition')\n",
    "    elif hf==5:\n",
    "        naccbehf.append('Irritability')\n",
    "    elif hf==6:\n",
    "        naccbehf.append('Agitation')\n",
    "    elif hf==7:\n",
    "        naccbehf.append('Personality change')\n",
    "    elif hf==8:\n",
    "        naccbehf.append('REM sleep behavior disorder')\n",
    "    elif hf==9:\n",
    "        naccbehf.append('Anxiety')\n",
    "    elif hf==10:\n",
    "        naccbehf.append('Other')\n",
    "    else:\n",
    "        naccbehf.append(np.nan)\n",
    "var_dict['naccbehf'] = naccbehf\n",
    "del naccbehf"
   ]
  },
  {
   "cell_type": "markdown",
   "metadata": {},
   "source": [
    "*BEMODE*  \n",
    "Mode of behavioral symptom onset.  \n",
    "0=No symptoms  \n",
    "1=Gradual  \n",
    "2=Subacute  \n",
    "3=Abrupt  \n",
    "4=Other  \n",
    "99=Unknown"
   ]
  },
  {
   "cell_type": "code",
   "execution_count": null,
   "metadata": {
    "collapsed": true
   },
   "outputs": [],
   "source": [
    "bemode =[]\n",
    "for be in rawdata['BEMODE']:\n",
    "    if be==0:\n",
    "        bemode.append('No behavior symptoms')\n",
    "    elif be==1:\n",
    "        bemode.append('Gradual')\n",
    "    elif be==2:\n",
    "        bemode.append('Abrupt')\n",
    "    elif be==3:\n",
    "        bemode.append('Other')\n",
    "    else:\n",
    "        bemode.append(np.nan)\n",
    "var_dict['bemode']=bemode\n",
    "del bemode"
   ]
  },
  {
   "cell_type": "markdown",
   "metadata": {},
   "source": [
    "*BEAGE*  \n",
    "Age of behavioral symptom onset.  \n",
    "15 to 110, all other values are error codes."
   ]
  },
  {
   "cell_type": "code",
   "execution_count": null,
   "metadata": {
    "collapsed": true
   },
   "outputs": [],
   "source": [
    "beage = []\n",
    "for age in rawdata['BEAGE']:\n",
    "    if (age<15 or age>110):\n",
    "        beage.append(age)\n",
    "    else:\n",
    "        beage.append(np.nan)\n",
    "var_dict['beage']=beage\n",
    "del beage\n",
    "    "
   ]
  },
  {
   "cell_type": "markdown",
   "metadata": {},
   "source": [
    "*DECCLMOT* - Is the subject experiencing any motor symptoms?  \n",
    "*MOGAIT* - Meaningful changes in motor gait?  \n",
    "*MOFALLS* - Meaningful changes in falls?  \n",
    "*MOTREM* - Meaningful changes in tremors?  \n",
    "*MOSLOW* - Meaningful changes in slowness?  \n",
    "0=No  \n",
    "1=Yes"
   ]
  },
  {
   "cell_type": "code",
   "execution_count": null,
   "metadata": {
    "collapsed": false
   },
   "outputs": [],
   "source": [
    "measurements = ['DECCLMOT', 'MOGAIT', 'MOFALLS', 'MOTREM', 'MOSLOW']\n",
    "\n",
    "for measure in measurements:\n",
    "    values = []\n",
    "    for value in rawdata[measure]:\n",
    "        if value==0:\n",
    "            values.append(\"No\")\n",
    "        elif value==1:\n",
    "            values.append(\"Yes\")\n",
    "        else:\n",
    "            values.append(np.nan)\n",
    "    var_dict[measure]=values"
   ]
  },
  {
   "cell_type": "markdown",
   "metadata": {},
   "source": [
    "*NACCMOTF*  - Predominant motor symptom  \n",
    "0=No Motor symptoms  \n",
    "1=Gait disorder  \n",
    "2=falls  \n",
    "3=tremor  \n",
    "4=slowness  "
   ]
  },
  {
   "cell_type": "code",
   "execution_count": null,
   "metadata": {
    "collapsed": true
   },
   "outputs": [],
   "source": [
    "values = []\n",
    "for val in rawdata['NACCMOTF']:\n",
    "    if val==0:\n",
    "        values.append('No behavior symptoms')\n",
    "    elif val==1:\n",
    "        values.append('Gait disorder')\n",
    "    elif val==2:\n",
    "        values.append('Falls')\n",
    "    elif val==3:\n",
    "        values.append('Tremor')\n",
    "    elif val==4:\n",
    "        values.append('Slowness')\n",
    "    else:\n",
    "        values.append(np.nan)\n",
    "var_dict['naccmotf']=values\n",
    "del values"
   ]
  },
  {
   "cell_type": "markdown",
   "metadata": {},
   "source": [
    "*MOMODE* - mode of motor symptom onset  \n",
    "0=No motor symptoms  \n",
    "1=Gradual  \n",
    "2=Subacute  \n",
    "3=Abrupt  \n",
    "4=Other  \n",
    "99=Unknown"
   ]
  },
  {
   "cell_type": "code",
   "execution_count": null,
   "metadata": {
    "collapsed": true
   },
   "outputs": [],
   "source": [
    "values = []\n",
    "for val in rawdata['MOMODE']:\n",
    "    if val==0:\n",
    "        values.append('No behavior symptoms')\n",
    "    elif val==1:\n",
    "        values.append('Gradual')\n",
    "    elif val==2:\n",
    "        values.append('Subacute')\n",
    "    elif val==3:\n",
    "        values.append('Abrupt')\n",
    "    elif val==4:\n",
    "        values.append('Other')\n",
    "    else:\n",
    "        values.append(np.nan)\n",
    "var_dict['momode']=values\n",
    "del values"
   ]
  },
  {
   "cell_type": "markdown",
   "metadata": {},
   "source": [
    "*FRSTCHG* - Primary first domain that was recognized as changed  \n",
    "1=Cognition  \n",
    "2=Behavior  \n",
    "3=Motor function  "
   ]
  },
  {
   "cell_type": "code",
   "execution_count": null,
   "metadata": {
    "collapsed": true
   },
   "outputs": [],
   "source": [
    "values = []\n",
    "for val in rawdata['FRSTCHG']:\n",
    "    if val==1:\n",
    "        values.append('Cognition')\n",
    "    elif val==2:\n",
    "        values.append('Behavior')\n",
    "    elif val==3:\n",
    "        values.append('Motor function')\n",
    "    else:\n",
    "        values.append(np.nan)\n",
    "        \n",
    "var_dict['FRSTCHG']=values\n",
    "del values"
   ]
  },
  {
   "cell_type": "markdown",
   "metadata": {},
   "source": [
    "### Neuropsychological Battery Scores\n",
    "*MMSEORDA*  - Orientation, Time  \n",
    "0-5  "
   ]
  },
  {
   "cell_type": "code",
   "execution_count": null,
   "metadata": {
    "collapsed": true
   },
   "outputs": [],
   "source": [
    "values = []\n",
    "for val in rawdata['MMSEORDA']:\n",
    "    if (val>=0 and val<=5):\n",
    "        values.append(val)\n",
    "    else:\n",
    "        values.append(np.nan)\n",
    "var_dict['mmseorda']=values\n",
    "del values"
   ]
  },
  {
   "cell_type": "markdown",
   "metadata": {},
   "source": [
    "*MMSEORLO* - Orientation, Place  \n",
    "0-5"
   ]
  },
  {
   "cell_type": "code",
   "execution_count": null,
   "metadata": {
    "collapsed": true
   },
   "outputs": [],
   "source": [
    "values = []\n",
    "for val in rawdata['MMSEORLO']:\n",
    "    if (val>=0 and val<=5):\n",
    "        values.append(val)\n",
    "    else:\n",
    "        values.append(np.nan)\n",
    "var_dict['mmseorlo']=values\n",
    "del values"
   ]
  },
  {
   "cell_type": "markdown",
   "metadata": {},
   "source": [
    "*PENTAGON* - Drew the MMSE pentagon  \n",
    "0-1"
   ]
  },
  {
   "cell_type": "code",
   "execution_count": null,
   "metadata": {
    "collapsed": true
   },
   "outputs": [],
   "source": [
    "values = []\n",
    "for val in rawdata['PENTAGON']:\n",
    "    if (val>=0 and val<=1):\n",
    "        values.append(val)\n",
    "    else:\n",
    "        values.append(np.nan)\n",
    "var_dict['pentagon']=values\n",
    "del values"
   ]
  },
  {
   "cell_type": "markdown",
   "metadata": {},
   "source": [
    "*NACCMMSE* - Total MMSE score  \n",
    "0-30"
   ]
  },
  {
   "cell_type": "code",
   "execution_count": null,
   "metadata": {
    "collapsed": true
   },
   "outputs": [],
   "source": [
    "values = []\n",
    "for val in rawdata['NACCMMSE']:\n",
    "    if (val>=0 and val<=30):\n",
    "        values.append(val)\n",
    "    else:\n",
    "        values.append(np.nan)\n",
    "var_dict['naccmmse']=values\n",
    "del values"
   ]
  },
  {
   "cell_type": "markdown",
   "metadata": {},
   "source": [
    "*LOGIMEM* - Story units recalled  \n",
    "0-25"
   ]
  },
  {
   "cell_type": "code",
   "execution_count": null,
   "metadata": {
    "collapsed": true
   },
   "outputs": [],
   "source": [
    "values = []\n",
    "for val in rawdata['LOGIMEM']:\n",
    "    if (val>=0 and val<=25):\n",
    "        values.append(val)\n",
    "    else:\n",
    "        values.append(np.nan)\n",
    "var_dict['logimem']=values\n",
    "del values"
   ]
  },
  {
   "cell_type": "markdown",
   "metadata": {},
   "source": [
    "*MEMUNITS* - Story units recalled, delayed recalled  \n",
    "0-25"
   ]
  },
  {
   "cell_type": "code",
   "execution_count": null,
   "metadata": {
    "collapsed": true
   },
   "outputs": [],
   "source": [
    "values = []\n",
    "for val in rawdata['MEMUNITS']:\n",
    "    if (val>=0 and val<=25):\n",
    "        values.append(val)\n",
    "    else:\n",
    "        values.append(np.nan)\n",
    "var_dict['memunits']=values\n",
    "del values"
   ]
  },
  {
   "cell_type": "markdown",
   "metadata": {},
   "source": [
    "*UDSBENTC* - Benson figure copy  \n",
    "0-17"
   ]
  },
  {
   "cell_type": "code",
   "execution_count": null,
   "metadata": {
    "collapsed": true
   },
   "outputs": [],
   "source": [
    "values = []\n",
    "for val in rawdata['UDSBENTC']:\n",
    "    if (val>=0 and val<=17):\n",
    "        values.append(val)\n",
    "    else:\n",
    "        values.append(np.nan)\n",
    "var_dict['udsbentc']=values\n",
    "del values"
   ]
  },
  {
   "cell_type": "markdown",
   "metadata": {},
   "source": [
    "*UDSBENTD* - Benson figure delayed recall  \n",
    "0-17"
   ]
  },
  {
   "cell_type": "code",
   "execution_count": null,
   "metadata": {
    "collapsed": true
   },
   "outputs": [],
   "source": [
    "values = []\n",
    "for val in rawdata['UDSBENTD']:\n",
    "    if (val>=0 and val<=17):\n",
    "        values.append(val)\n",
    "    else:\n",
    "        values.append(np.nan)\n",
    "var_dict['udsbentd']=values\n",
    "del values"
   ]
  },
  {
   "cell_type": "markdown",
   "metadata": {},
   "source": [
    "*UDSBENRS* - Benson figure recognition  \n",
    "0=No  \n",
    "1=Yes"
   ]
  },
  {
   "cell_type": "code",
   "execution_count": null,
   "metadata": {
    "collapsed": true
   },
   "outputs": [],
   "source": [
    "values = []\n",
    "for val in rawdata['UDSBENRS']:\n",
    "    if val==0:\n",
    "        values.append(\"No\")\n",
    "    elif val==1:\n",
    "        values.append(\"Yes\")\n",
    "    else:\n",
    "        values.append(np.nan)\n",
    "var_dict['udsbenrs']=values\n",
    "del values"
   ]
  },
  {
   "cell_type": "markdown",
   "metadata": {},
   "source": [
    "*DIGIFLEN* - Digits forwards length  \n",
    "0-8"
   ]
  },
  {
   "cell_type": "code",
   "execution_count": null,
   "metadata": {
    "collapsed": true
   },
   "outputs": [],
   "source": [
    "values = []\n",
    "for val in rawdata['DIGIFLEN']:\n",
    "    if (val>=0 and val<=8):\n",
    "        values.append(val)\n",
    "    else:\n",
    "        values.append(np.nan)\n",
    "var_dict['digiflen']=values\n",
    "del values"
   ]
  },
  {
   "cell_type": "markdown",
   "metadata": {},
   "source": [
    "*DIGIBLEN* - Digits forwards length  \n",
    "0-8"
   ]
  },
  {
   "cell_type": "code",
   "execution_count": null,
   "metadata": {
    "collapsed": true
   },
   "outputs": [],
   "source": [
    "values = []\n",
    "for val in rawdata['DIGIBLEN']:\n",
    "    if (val>=0 and val<=8):\n",
    "        values.append(val)\n",
    "    else:\n",
    "        values.append(np.nan)\n",
    "var_dict['digiblen']=values\n",
    "del values"
   ]
  },
  {
   "cell_type": "markdown",
   "metadata": {},
   "source": [
    "*ANIMALS* - Animals named in a minute  \n",
    "0-77"
   ]
  },
  {
   "cell_type": "code",
   "execution_count": null,
   "metadata": {
    "collapsed": true
   },
   "outputs": [],
   "source": [
    "values = []\n",
    "for val in rawdata['ANIMALS']:\n",
    "    if (val>=0 and val<=77):\n",
    "        values.append(val)\n",
    "    else:\n",
    "        values.append(np.nan)\n",
    "var_dict['animals']=values\n",
    "del values"
   ]
  },
  {
   "cell_type": "markdown",
   "metadata": {},
   "source": [
    "*VEG* - Vegetables named in a minute  \n",
    "0-77"
   ]
  },
  {
   "cell_type": "code",
   "execution_count": null,
   "metadata": {
    "collapsed": true
   },
   "outputs": [],
   "source": [
    "values = []\n",
    "for val in rawdata['VEG']:\n",
    "    if (val>=0 and val<=77):\n",
    "        values.append(val)\n",
    "    else:\n",
    "        values.append(np.nan)\n",
    "var_dict['vegetables']=values\n",
    "del values"
   ]
  },
  {
   "cell_type": "markdown",
   "metadata": {},
   "source": [
    "*TRAILA* - Seconds to complete trail making test A  \n",
    "0-150"
   ]
  },
  {
   "cell_type": "code",
   "execution_count": null,
   "metadata": {
    "collapsed": true
   },
   "outputs": [],
   "source": [
    "values = []\n",
    "for val in rawdata['TRAILA']:\n",
    "    if (val>=0 and val<=150):\n",
    "        values.append(val)\n",
    "    else:\n",
    "        values.append(np.nan)\n",
    "var_dict['traila']=values\n",
    "del values"
   ]
  },
  {
   "cell_type": "markdown",
   "metadata": {},
   "source": [
    "*TRAILARR* - Errors made when completing trail making test A  \n",
    "0-40"
   ]
  },
  {
   "cell_type": "code",
   "execution_count": null,
   "metadata": {
    "collapsed": true
   },
   "outputs": [],
   "source": [
    "values = []\n",
    "for val in rawdata['TRAILARR']:\n",
    "    if (val>=0 and val<=40):\n",
    "        values.append(val)\n",
    "    else:\n",
    "        values.append(np.nan)\n",
    "var_dict['trailarr']=values\n",
    "del values"
   ]
  },
  {
   "cell_type": "markdown",
   "metadata": {},
   "source": [
    "*TRAILALI* - Correct lines drawn when completing trail making test A  \n",
    "0-24"
   ]
  },
  {
   "cell_type": "code",
   "execution_count": null,
   "metadata": {
    "collapsed": true
   },
   "outputs": [],
   "source": [
    "values = []\n",
    "for val in rawdata['TRAILALI']:\n",
    "    if (val>=0 and val<=24):\n",
    "        values.append(val)\n",
    "    else:\n",
    "        values.append(np.nan)\n",
    "var_dict['trailali']=values\n",
    "del values"
   ]
  },
  {
   "cell_type": "markdown",
   "metadata": {},
   "source": [
    "*TRAILB* - Seconds to complete trail making test A  \n",
    "0-300"
   ]
  },
  {
   "cell_type": "code",
   "execution_count": null,
   "metadata": {
    "collapsed": true
   },
   "outputs": [],
   "source": [
    "values = []\n",
    "for val in rawdata['TRAILB']:\n",
    "    if (val>=0 and val<=300):\n",
    "        values.append(val)\n",
    "    else:\n",
    "        values.append(np.nan)\n",
    "var_dict['trailb']=values\n",
    "del values"
   ]
  },
  {
   "cell_type": "markdown",
   "metadata": {},
   "source": [
    "*TRAILBRR* - Errors made when completing trail making test A  \n",
    "0-40"
   ]
  },
  {
   "cell_type": "code",
   "execution_count": null,
   "metadata": {
    "collapsed": true
   },
   "outputs": [],
   "source": [
    "values = []\n",
    "for val in rawdata['TRAILBRR']:\n",
    "    if (val>=0 and val<=40):\n",
    "        values.append(val)\n",
    "    else:\n",
    "        values.append(np.nan)\n",
    "var_dict['trailbrr']=values\n",
    "del values"
   ]
  },
  {
   "cell_type": "markdown",
   "metadata": {},
   "source": [
    "*TRAILBLI* - Correct lines drawn when completing trail making test A  \n",
    "0-24"
   ]
  },
  {
   "cell_type": "code",
   "execution_count": null,
   "metadata": {
    "collapsed": true
   },
   "outputs": [],
   "source": [
    "values = []\n",
    "for val in rawdata['TRAILBLI']:\n",
    "    if (val>=0 and val<=24):\n",
    "        values.append(val)\n",
    "    else:\n",
    "        values.append(np.nan)\n",
    "var_dict['trailbli']=values\n",
    "del values"
   ]
  },
  {
   "cell_type": "markdown",
   "metadata": {},
   "source": [
    "*WAIS* - wais-r digit symbol test  \n",
    "0-93"
   ]
  },
  {
   "cell_type": "code",
   "execution_count": null,
   "metadata": {
    "collapsed": true
   },
   "outputs": [],
   "source": [
    "values = []\n",
    "for val in rawdata['WAIS']:\n",
    "    if (val>=0 and val<=93):\n",
    "        values.append(val)\n",
    "    else:\n",
    "        values.append(np.nan)\n",
    "var_dict['wais']=values\n",
    "del values"
   ]
  },
  {
   "cell_type": "markdown",
   "metadata": {},
   "source": [
    "*BOSTON* - Boston Naming Test  \n",
    "0-30"
   ]
  },
  {
   "cell_type": "code",
   "execution_count": null,
   "metadata": {
    "collapsed": true
   },
   "outputs": [],
   "source": [
    "values = []\n",
    "for val in rawdata['BOSTON']:\n",
    "    if (val>=0 and val<=30):\n",
    "        values.append(val)\n",
    "    else:\n",
    "        values.append(np.nan)\n",
    "var_dict['boston']=values\n",
    "del values"
   ]
  },
  {
   "cell_type": "markdown",
   "metadata": {},
   "source": [
    "*UDSVERFC* - Words starting with F generated in a minute  \n",
    "0-40  "
   ]
  },
  {
   "cell_type": "code",
   "execution_count": null,
   "metadata": {
    "collapsed": true
   },
   "outputs": [],
   "source": [
    "values = []\n",
    "for val in rawdata['UDSVERFC']:\n",
    "    if (val>=0 and val<=40):\n",
    "        values.append(val)\n",
    "    else:\n",
    "        values.append(np.nan)\n",
    "var_dict['UDSVERFC']=values\n",
    "del values"
   ]
  },
  {
   "cell_type": "markdown",
   "metadata": {},
   "source": [
    "*UDSVERLC* - Words starting with L generated in a minute  \n",
    "0-40"
   ]
  },
  {
   "cell_type": "code",
   "execution_count": null,
   "metadata": {
    "collapsed": true
   },
   "outputs": [],
   "source": [
    "values = []\n",
    "for val in rawdata['UDSVERLC']:\n",
    "    if (val>=0 and val<=40):\n",
    "        values.append(val)\n",
    "    else:\n",
    "        values.append(np.nan)\n",
    "var_dict['udsverlc']=values\n",
    "del values"
   ]
  },
  {
   "cell_type": "markdown",
   "metadata": {},
   "source": [
    "*MOCATOTS* - MoCA total raw score  \n",
    "0-30"
   ]
  },
  {
   "cell_type": "code",
   "execution_count": null,
   "metadata": {
    "collapsed": true
   },
   "outputs": [],
   "source": [
    "values = []\n",
    "for val in rawdata['MOCATOTS']:\n",
    "    if (val>=0 and val<=30):\n",
    "        values.append(val)\n",
    "    else:\n",
    "        values.append(np.nan)\n",
    "var_dict['mocatots']=values\n",
    "del values"
   ]
  },
  {
   "cell_type": "markdown",
   "metadata": {},
   "source": [
    "# NOTE FOR NIHAR-\n",
    "# CONTINUE FROM MOCATOTS"
   ]
  },
  {
   "cell_type": "markdown",
   "metadata": {},
   "source": [
    "# Intermediate Data\n",
    "Some variables require recoding after the dataset is assembled. These variables are added to the dataset here."
   ]
  },
  {
   "cell_type": "code",
   "execution_count": null,
   "metadata": {
    "collapsed": true
   },
   "outputs": [],
   "source": [
    "variables.append('SMOKYRS')"
   ]
  },
  {
   "cell_type": "markdown",
   "metadata": {},
   "source": [
    "# Create Dataframe"
   ]
  },
  {
   "cell_type": "code",
   "execution_count": null,
   "metadata": {
    "collapsed": false
   },
   "outputs": [],
   "source": [
    "# Add the remaining variables to the dictionary\n",
    "for variable in variables:\n",
    "    var_dict[variable] = rawdata[variable]\n",
    "\n",
    "# turn the dictionary into a pandas dataframe\n",
    "selectdata = pd.DataFrame(var_dict)"
   ]
  },
  {
   "cell_type": "markdown",
   "metadata": {},
   "source": [
    "## *SMOKYRS*\n",
    "\n",
    "Total years smoked cigarettes.  \n",
    "0-87  \n",
    "88=Not applicable  \n",
    "99=Unknown  \n",
    "-4=Not available  \n",
    "\n",
    "Assessment skip patterns may preclude response to question.\n",
    "\n",
    "Recode for all subjects, taking the oldest value in the dataset, and removing error codes."
   ]
  },
  {
   "cell_type": "code",
   "execution_count": null,
   "metadata": {
    "collapsed": false,
    "scrolled": true
   },
   "outputs": [],
   "source": [
    "# Sort the row by NACCID and then by ascending age\n",
    "selectdata = selectdata.sort(['NACCID', 'NACCAGE'], ascending=[1, 1])\n",
    "selectdata.index = range(1,len(selectdata) + 1)\n",
    "\n",
    "for i in range(len(selectdata)):\n",
    "    if (selectdata['SMOKYRS'][10] < 0 or selectdata['SMOKYRS'][10] > 87):\n",
    "        selectdata.set_value(i, 'SMOKYRS', np.nan)\n",
    "\n",
    "for i in range(2,len(selectdata)):\n",
    "    # If the NACCID is equal to the previous NACCID\n",
    "    if selectdata['NACCID'][i] == selectdata['NACCID'][i-1]:\n",
    "        # Change the SMOKYRS to equal the previous SMOKYRS\n",
    "        if not np.isnan(selectdata['SMOKYRS'][i]):\n",
    "            selectdata.set_value(i, 'SMOKYRS', selectdata['SMOKYRS'][i-1])\n",
    "    print(str(i) + '/' + str(len(selectdata)), end='\\r')\n",
    "print(str(len(selectdata)) + '/' + str(len(selectdata)))\n",
    "\n",
    "\n",
    "# Sort the row by NACCID and then by descending age\n",
    "selectdata = selectdata.sort(['NACCID', 'NACCAGE'], ascending=[1, 0])\n",
    "selectdata.index = range(1,len(selectdata) + 1)\n",
    "\n",
    "for i in range(2,len(selectdata)):\n",
    "    # If the NACCID is equal to the previous NACCID\n",
    "    if selectdata['NACCID'][i] == selectdata['NACCID'][i-1]:\n",
    "        # Change the SMOKYRS to equal the previous SMOKYRS\n",
    "        if not np.isnan(selectdata['SMOKYRS'][i]):\n",
    "            selectdata.set_value(i, 'SMOKYRS', selectdata['SMOKYRS'][i-1])\n",
    "    print(str(i) + '/' + str(len(selectdata)), end='\\r')\n",
    "print(str(len(selectdata)) + '/' + str(len(selectdata)))\n"
   ]
  },
  {
   "cell_type": "markdown",
   "metadata": {},
   "source": [
    "# Filter subjects  \n",
    "\n",
    "Load and filter for only the previously selected NACCID's"
   ]
  },
  {
   "cell_type": "code",
   "execution_count": null,
   "metadata": {
    "collapsed": false
   },
   "outputs": [],
   "source": [
    "randomization = pd.read_csv(\"randomization/allsubjects.csv\", low_memory=False)\n",
    "selectdata = selectdata[selectdata['NACCID'].isin(randomization['NACCID'])]\n",
    "\n",
    "print(selectdata['labels'].value_counts(dropna=False))"
   ]
  },
  {
   "cell_type": "markdown",
   "metadata": {},
   "source": [
    "Assign each subject entry with the latest diagnosis."
   ]
  },
  {
   "cell_type": "code",
   "execution_count": null,
   "metadata": {
    "collapsed": false
   },
   "outputs": [],
   "source": [
    "# Sort the row by NACCID and then by descending age\n",
    "selectdata = selectdata.sort(['NACCID', 'NACCAGE'], ascending=[1, 0])\n",
    "selectdata.index = range(1,len(selectdata) + 1)\n",
    "\n",
    "for i in range(2,len(selectdata)):\n",
    "    # If the NACCID is equal to the previous NACCID\n",
    "    if selectdata['NACCID'][i] == selectdata['NACCID'][i-1]:\n",
    "        # Change the label to equal the previous label\n",
    "        selectdata.set_value(i, 'labels', selectdata['labels'][i-1])\n",
    "    print(str(i) + '/' + str(len(selectdata)), end='\\r')\n",
    "print(str(len(selectdata)) + '/' + str(len(selectdata)))\n",
    "selectdata['labels'].value_counts(dropna=False)"
   ]
  },
  {
   "cell_type": "markdown",
   "metadata": {
    "collapsed": true
   },
   "source": [
    "Remove the non-coded values."
   ]
  },
  {
   "cell_type": "code",
   "execution_count": null,
   "metadata": {
    "collapsed": false
   },
   "outputs": [],
   "source": [
    "selectdata = selectdata[selectdata['labels'] > -1]\n",
    "print(selectdata['labels'].value_counts(dropna=False))"
   ]
  },
  {
   "cell_type": "markdown",
   "metadata": {},
   "source": [
    "## Preview Results"
   ]
  },
  {
   "cell_type": "code",
   "execution_count": null,
   "metadata": {
    "collapsed": false
   },
   "outputs": [],
   "source": [
    "selectdata[:15]"
   ]
  },
  {
   "cell_type": "markdown",
   "metadata": {},
   "source": [
    "# Split into train/testvalidate"
   ]
  },
  {
   "cell_type": "code",
   "execution_count": null,
   "metadata": {
    "collapsed": true
   },
   "outputs": [],
   "source": [
    "randomization = pd.read_csv(\"randomization/allsubjects.csv\", low_memory=False)\n",
    "\n",
    "train = selectdata[selectdata['NACCID'].isin(randomization[randomization['group']==\"train\"]['NACCID'])]\n",
    "test = selectdata[selectdata['NACCID'].isin(randomization[randomization['group']==\"test\"]['NACCID'])]\n",
    "validate = selectdata[selectdata['NACCID'].isin(randomization[randomization['group']==\"validate\"]['NACCID'])]"
   ]
  },
  {
   "cell_type": "markdown",
   "metadata": {},
   "source": [
    "# Save the results to csv.\n",
    "Final results are in the \"result\" folder."
   ]
  },
  {
   "cell_type": "code",
   "execution_count": null,
   "metadata": {
    "collapsed": false
   },
   "outputs": [],
   "source": [
    "selectdata.to_csv('result/selectdata.csv', index=False)\n",
    "train.to_csv('result/train.csv', index=False)\n",
    "test.to_csv('result/test.csv', index=False)\n",
    "validate.to_csv('result/validate.csv', index=False)"
   ]
  }
 ],
 "metadata": {
  "kernelspec": {
   "display_name": "Python 2",
   "language": "python",
   "name": "python2"
  },
  "language_info": {
   "codemirror_mode": {
    "name": "ipython",
    "version": 2
   },
   "file_extension": ".py",
   "mimetype": "text/x-python",
   "name": "python",
   "nbconvert_exporter": "python",
   "pygments_lexer": "ipython2",
   "version": "2.7.11"
  }
 },
 "nbformat": 4,
 "nbformat_minor": 0
}
